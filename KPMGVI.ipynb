{
 "cells": [
  {
   "cell_type": "markdown",
   "id": "5bcf2787-fcd1-4037-854a-786707811085",
   "metadata": {},
   "source": [
    "![KPMG logo](https://th.bing.com/th/id/OIP.FAkgKvaU8I825ap8Gd_OggAAAA?pid=ImgDet&rs=1)"
   ]
  },
  {
   "cell_type": "markdown",
   "id": "a9499604-6296-4d26-809b-f1eb9609d640",
   "metadata": {},
   "source": [
    "# KPMG VIRTUAL INTERNSHIP\n",
    "### Sprocket Central Pty Ltd\n",
    "Dataset has been provided by KPMG virtual internship through Forage. See [Forage.com](forage.com) for more details"
   ]
  },
  {
   "cell_type": "markdown",
   "id": "6c85023b-b4d2-4b45-a90d-b8f7c5b33939",
   "metadata": {},
   "source": [
    "### Objectives:\n",
    "In this lab:\n",
    "* The tables for Sprocket will be loaded independently to identify all data quality issues\n",
    "* Identify missing data in the tables\n",
    "* Identify duplicate entries in the table\n",
    "* Check the accuracy and consistencies of the entry\n",
    "* Disucuss Inferences and recommendation for Data quality and integrity\n"
   ]
  },
  {
   "cell_type": "code",
   "execution_count": 3,
   "id": "11db3df4-e4e1-4f2b-b3e8-dd4624b3fd01",
   "metadata": {},
   "outputs": [],
   "source": [
    "#import required libraries\n",
    "import pandas as pd\n",
    "import numpy as np\n",
    "import matplotlib as mpt\n"
   ]
  },
  {
   "cell_type": "code",
   "execution_count": 45,
   "id": "c2c38034-b64a-44b7-8b0f-27d1324a54a9",
   "metadata": {},
   "outputs": [],
   "source": [
    "#load dataset into lab and store in pandas dataframe \n",
    "# NB: For purpose of independent analysis, tables have been stored seperately as csv files using Excel\n",
    "\n",
    "cusadd=pd.read_csv('customer_address.csv',header=1)\n",
    "newcus=pd.read_csv('New_customer_list.csv',header=1)\n",
    "cusdem=pd.read_csv('customer_dem.csv',header=1)\n",
    "trndat=pd.read_csv('transaction_data.csv',header=1)"
   ]
  },
  {
   "cell_type": "markdown",
   "id": "6e3dbaa3-620c-43a1-a33e-48686df378c8",
   "metadata": {},
   "source": [
    "##### Wrangling Transaction Data Table"
   ]
  },
  {
   "cell_type": "code",
   "execution_count": 46,
   "id": "8ff423d2-1d66-4446-9171-ae51a364be17",
   "metadata": {},
   "outputs": [
    {
     "data": {
      "text/html": [
       "<div>\n",
       "<style scoped>\n",
       "    .dataframe tbody tr th:only-of-type {\n",
       "        vertical-align: middle;\n",
       "    }\n",
       "\n",
       "    .dataframe tbody tr th {\n",
       "        vertical-align: top;\n",
       "    }\n",
       "\n",
       "    .dataframe thead th {\n",
       "        text-align: right;\n",
       "    }\n",
       "</style>\n",
       "<table border=\"1\" class=\"dataframe\">\n",
       "  <thead>\n",
       "    <tr style=\"text-align: right;\">\n",
       "      <th></th>\n",
       "      <th>transaction_id</th>\n",
       "      <th>product_id</th>\n",
       "      <th>customer_id</th>\n",
       "      <th>transaction_date</th>\n",
       "      <th>online_order</th>\n",
       "      <th>order_status</th>\n",
       "      <th>brand</th>\n",
       "      <th>product_line</th>\n",
       "      <th>product_class</th>\n",
       "      <th>product_size</th>\n",
       "      <th>list_price</th>\n",
       "      <th>standard_cost</th>\n",
       "      <th>product_first_sold_date</th>\n",
       "    </tr>\n",
       "  </thead>\n",
       "  <tbody>\n",
       "    <tr>\n",
       "      <th>0</th>\n",
       "      <td>1</td>\n",
       "      <td>2</td>\n",
       "      <td>2950</td>\n",
       "      <td>2/25/2017</td>\n",
       "      <td>False</td>\n",
       "      <td>Approved</td>\n",
       "      <td>Solex</td>\n",
       "      <td>Standard</td>\n",
       "      <td>medium</td>\n",
       "      <td>medium</td>\n",
       "      <td>71.49</td>\n",
       "      <td>$53.62</td>\n",
       "      <td>41245.0</td>\n",
       "    </tr>\n",
       "    <tr>\n",
       "      <th>1</th>\n",
       "      <td>2</td>\n",
       "      <td>3</td>\n",
       "      <td>3120</td>\n",
       "      <td>5/21/2017</td>\n",
       "      <td>True</td>\n",
       "      <td>Approved</td>\n",
       "      <td>Trek Bicycles</td>\n",
       "      <td>Standard</td>\n",
       "      <td>medium</td>\n",
       "      <td>large</td>\n",
       "      <td>2091.47</td>\n",
       "      <td>$388.92</td>\n",
       "      <td>41701.0</td>\n",
       "    </tr>\n",
       "    <tr>\n",
       "      <th>2</th>\n",
       "      <td>3</td>\n",
       "      <td>37</td>\n",
       "      <td>402</td>\n",
       "      <td>10/16/2017</td>\n",
       "      <td>False</td>\n",
       "      <td>Approved</td>\n",
       "      <td>OHM Cycles</td>\n",
       "      <td>Standard</td>\n",
       "      <td>low</td>\n",
       "      <td>medium</td>\n",
       "      <td>1793.43</td>\n",
       "      <td>$248.82</td>\n",
       "      <td>36361.0</td>\n",
       "    </tr>\n",
       "    <tr>\n",
       "      <th>3</th>\n",
       "      <td>4</td>\n",
       "      <td>88</td>\n",
       "      <td>3135</td>\n",
       "      <td>8/31/2017</td>\n",
       "      <td>False</td>\n",
       "      <td>Approved</td>\n",
       "      <td>Norco Bicycles</td>\n",
       "      <td>Standard</td>\n",
       "      <td>medium</td>\n",
       "      <td>medium</td>\n",
       "      <td>1198.46</td>\n",
       "      <td>$381.10</td>\n",
       "      <td>36145.0</td>\n",
       "    </tr>\n",
       "    <tr>\n",
       "      <th>4</th>\n",
       "      <td>5</td>\n",
       "      <td>78</td>\n",
       "      <td>787</td>\n",
       "      <td>10/1/2017</td>\n",
       "      <td>True</td>\n",
       "      <td>Approved</td>\n",
       "      <td>Giant Bicycles</td>\n",
       "      <td>Standard</td>\n",
       "      <td>medium</td>\n",
       "      <td>large</td>\n",
       "      <td>1765.30</td>\n",
       "      <td>$709.48</td>\n",
       "      <td>42226.0</td>\n",
       "    </tr>\n",
       "  </tbody>\n",
       "</table>\n",
       "</div>"
      ],
      "text/plain": [
       "   transaction_id  product_id  customer_id transaction_date online_order  \\\n",
       "0               1           2         2950        2/25/2017        False   \n",
       "1               2           3         3120        5/21/2017         True   \n",
       "2               3          37          402       10/16/2017        False   \n",
       "3               4          88         3135        8/31/2017        False   \n",
       "4               5          78          787        10/1/2017         True   \n",
       "\n",
       "  order_status           brand product_line product_class product_size  \\\n",
       "0     Approved           Solex     Standard        medium       medium   \n",
       "1     Approved   Trek Bicycles     Standard        medium        large   \n",
       "2     Approved      OHM Cycles     Standard           low       medium   \n",
       "3     Approved  Norco Bicycles     Standard        medium       medium   \n",
       "4     Approved  Giant Bicycles     Standard        medium        large   \n",
       "\n",
       "   list_price standard_cost  product_first_sold_date  \n",
       "0       71.49        $53.62                  41245.0  \n",
       "1     2091.47       $388.92                  41701.0  \n",
       "2     1793.43       $248.82                  36361.0  \n",
       "3     1198.46       $381.10                  36145.0  \n",
       "4     1765.30       $709.48                  42226.0  "
      ]
     },
     "execution_count": 46,
     "metadata": {},
     "output_type": "execute_result"
    }
   ],
   "source": [
    "\n",
    "#check the column and attribute structure of the data\n",
    "trndat.head()"
   ]
  },
  {
   "cell_type": "markdown",
   "id": "8ad1bf5b-a74c-4678-8766-bab98952c16a",
   "metadata": {},
   "source": [
    "##### Inference: _The column 'Product First Sold Date' requires some clarification to understand how attribute on the rows, and the appropriate data type to assign them._"
   ]
  },
  {
   "cell_type": "code",
   "execution_count": 48,
   "id": "34267eac-55fb-42ec-99c9-68491d200415",
   "metadata": {},
   "outputs": [
    {
     "name": "stdout",
     "output_type": "stream",
     "text": [
      "data entry:\n",
      "(20000, 13)\n",
      "Column type:\n",
      "transaction_id               int64\n",
      "product_id                   int64\n",
      "customer_id                  int64\n",
      "transaction_date            object\n",
      "online_order                object\n",
      "order_status                object\n",
      "brand                       object\n",
      "product_line                object\n",
      "product_class               object\n",
      "product_size                object\n",
      "list_price                 float64\n",
      "standard_cost               object\n",
      "product_first_sold_date    float64\n",
      "dtype: object\n"
     ]
    }
   ],
   "source": [
    "#let us check for errors in the table\n",
    "\n",
    "#identify column headers and their attributes\n",
    "entry=trndat.shape\n",
    "col=trndat.dtypes\n",
    "print(f'data entry:\\n{entry}')\n",
    "print(f'Column type:\\n{col}')"
   ]
  },
  {
   "cell_type": "markdown",
   "id": "8f2c09df-deb0-4fe1-9813-c8aa4b1289cc",
   "metadata": {},
   "source": [
    "##### Inference: _from the results we can see that there are 2000 row entries and 13 columns in the table. We also find that the transaction date is not formatted as a date type_"
   ]
  },
  {
   "cell_type": "code",
   "execution_count": 49,
   "id": "9b598eef-1421-4c41-9a55-e444c35350c7",
   "metadata": {},
   "outputs": [
    {
     "name": "stdout",
     "output_type": "stream",
     "text": [
      "transaction_id               0\n",
      "product_id                   0\n",
      "customer_id                  0\n",
      "transaction_date             0\n",
      "online_order               360\n",
      "order_status                 0\n",
      "brand                      197\n",
      "product_line               197\n",
      "product_class              197\n",
      "product_size               197\n",
      "list_price                   0\n",
      "standard_cost              197\n",
      "product_first_sold_date    197\n",
      "dtype: int64\n"
     ]
    }
   ],
   "source": [
    "#check for missing entries in rows\n",
    "missing=trndat.isnull().sum()\n",
    "print(missing)"
   ]
  },
  {
   "cell_type": "markdown",
   "id": "a847b023-f62a-4209-98e9-03d176fbb06c",
   "metadata": {},
   "source": [
    "##### Inference: \n",
    "* There are 360 null entries for Online order\n",
    "* 197 null entries for the columns brand, Product Line, product class,Product size, Standard cost, and Product First Sold Date.\n",
    "\n"
   ]
  },
  {
   "cell_type": "code",
   "execution_count": 51,
   "id": "eda40438-084b-47ad-b3f5-ef1eb17201f1",
   "metadata": {},
   "outputs": [
    {
     "name": "stdout",
     "output_type": "stream",
     "text": [
      "0\n"
     ]
    }
   ],
   "source": [
    "#check for duplicate entries in row\n",
    "duplicate=trndat.duplicated().sum()\n",
    "print(duplicate)"
   ]
  },
  {
   "cell_type": "markdown",
   "id": "cebda2b1-d39e-45a4-a739-c8344fc9e798",
   "metadata": {},
   "source": [
    "##### Inference: _There are no duplicate entries in the Transaction table_"
   ]
  },
  {
   "cell_type": "code",
   "execution_count": 53,
   "id": "d877c5eb-8f9b-4907-9b2d-8e83eb130b3e",
   "metadata": {},
   "outputs": [
    {
     "name": "stdout",
     "output_type": "stream",
     "text": [
      "Unique brand:['Solex' 'Trek Bicycles' 'OHM Cycles' 'Norco Bicycles' 'Giant Bicycles'\n",
      " 'WeareA2B' nan]\n",
      "Unique Product Size:['medium' 'large' 'small' nan]\n",
      "Unique Product Line:['Standard' 'Road' 'Mountain' 'Touring' nan]\n",
      "Unique Product Class:['medium' 'low' 'high' nan]\n"
     ]
    }
   ],
   "source": [
    "#check data accuracy and consistency in Transaction table\n",
    "uniquebrand=trndat['brand'].unique()\n",
    "uniquesize=trndat['product_size'].unique()\n",
    "uniquepl=trndat['product_line'].unique()\n",
    "uniquepc=trndat['product_class'].unique()\n",
    "\n",
    "\n",
    "print(f'Unique brand:{uniquebrand}\\nUnique Product Size:{uniquesize}\\nUnique Product Line:{uniquepl}\\nUnique Product Class:{uniquepc}')"
   ]
  },
  {
   "cell_type": "markdown",
   "id": "4bf8901e-6062-4ab9-90ff-be63f6f04641",
   "metadata": {},
   "source": [
    "##### Inference:\n",
    "* Null values are identified in the columns: Brand, Product Size, Product Line, and Product Class."
   ]
  },
  {
   "cell_type": "markdown",
   "id": "5bf3be27-5751-4613-bd9a-73ba4b09be4c",
   "metadata": {},
   "source": [
    "##### Wrangling the Customer Demographic Data"
   ]
  },
  {
   "cell_type": "code",
   "execution_count": 55,
   "id": "531d0696-3acb-4a73-b8c6-9ed3f307519d",
   "metadata": {},
   "outputs": [
    {
     "data": {
      "text/html": [
       "<div>\n",
       "<style scoped>\n",
       "    .dataframe tbody tr th:only-of-type {\n",
       "        vertical-align: middle;\n",
       "    }\n",
       "\n",
       "    .dataframe tbody tr th {\n",
       "        vertical-align: top;\n",
       "    }\n",
       "\n",
       "    .dataframe thead th {\n",
       "        text-align: right;\n",
       "    }\n",
       "</style>\n",
       "<table border=\"1\" class=\"dataframe\">\n",
       "  <thead>\n",
       "    <tr style=\"text-align: right;\">\n",
       "      <th></th>\n",
       "      <th>customer_id</th>\n",
       "      <th>first_name</th>\n",
       "      <th>last_name</th>\n",
       "      <th>gender</th>\n",
       "      <th>past_3_years_bike_related_purchases</th>\n",
       "      <th>DOB</th>\n",
       "      <th>job_title</th>\n",
       "      <th>job_industry_category</th>\n",
       "      <th>wealth_segment</th>\n",
       "      <th>deceased_indicator</th>\n",
       "      <th>default</th>\n",
       "      <th>owns_car</th>\n",
       "      <th>tenure</th>\n",
       "    </tr>\n",
       "  </thead>\n",
       "  <tbody>\n",
       "    <tr>\n",
       "      <th>0</th>\n",
       "      <td>1</td>\n",
       "      <td>Laraine</td>\n",
       "      <td>Medendorp</td>\n",
       "      <td>F</td>\n",
       "      <td>93</td>\n",
       "      <td>1953-10-12</td>\n",
       "      <td>Executive Secretary</td>\n",
       "      <td>Health</td>\n",
       "      <td>Mass Customer</td>\n",
       "      <td>N</td>\n",
       "      <td>\"'</td>\n",
       "      <td>Yes</td>\n",
       "      <td>11.0</td>\n",
       "    </tr>\n",
       "    <tr>\n",
       "      <th>1</th>\n",
       "      <td>2</td>\n",
       "      <td>Eli</td>\n",
       "      <td>Bockman</td>\n",
       "      <td>Male</td>\n",
       "      <td>81</td>\n",
       "      <td>1980-12-16</td>\n",
       "      <td>Administrative Officer</td>\n",
       "      <td>Financial Services</td>\n",
       "      <td>Mass Customer</td>\n",
       "      <td>N</td>\n",
       "      <td>&lt;script&gt;alert('hi')&lt;/script&gt;</td>\n",
       "      <td>Yes</td>\n",
       "      <td>16.0</td>\n",
       "    </tr>\n",
       "    <tr>\n",
       "      <th>2</th>\n",
       "      <td>3</td>\n",
       "      <td>Arlin</td>\n",
       "      <td>Dearle</td>\n",
       "      <td>Male</td>\n",
       "      <td>61</td>\n",
       "      <td>1954-01-20</td>\n",
       "      <td>Recruiting Manager</td>\n",
       "      <td>Property</td>\n",
       "      <td>Mass Customer</td>\n",
       "      <td>N</td>\n",
       "      <td>1-Feb</td>\n",
       "      <td>Yes</td>\n",
       "      <td>15.0</td>\n",
       "    </tr>\n",
       "    <tr>\n",
       "      <th>3</th>\n",
       "      <td>4</td>\n",
       "      <td>Talbot</td>\n",
       "      <td>NaN</td>\n",
       "      <td>Male</td>\n",
       "      <td>33</td>\n",
       "      <td>1961-10-03</td>\n",
       "      <td>NaN</td>\n",
       "      <td>IT</td>\n",
       "      <td>Mass Customer</td>\n",
       "      <td>N</td>\n",
       "      <td>() { _; } &gt;_[$($())] { touch /tmp/blns.shellsh...</td>\n",
       "      <td>No</td>\n",
       "      <td>7.0</td>\n",
       "    </tr>\n",
       "    <tr>\n",
       "      <th>4</th>\n",
       "      <td>5</td>\n",
       "      <td>Sheila-kathryn</td>\n",
       "      <td>Calton</td>\n",
       "      <td>Female</td>\n",
       "      <td>56</td>\n",
       "      <td>1977-05-13</td>\n",
       "      <td>Senior Editor</td>\n",
       "      <td>NaN</td>\n",
       "      <td>Affluent Customer</td>\n",
       "      <td>N</td>\n",
       "      <td>NIL</td>\n",
       "      <td>Yes</td>\n",
       "      <td>8.0</td>\n",
       "    </tr>\n",
       "  </tbody>\n",
       "</table>\n",
       "</div>"
      ],
      "text/plain": [
       "   customer_id      first_name  last_name  gender  \\\n",
       "0            1         Laraine  Medendorp       F   \n",
       "1            2             Eli    Bockman    Male   \n",
       "2            3           Arlin     Dearle    Male   \n",
       "3            4          Talbot        NaN    Male   \n",
       "4            5  Sheila-kathryn     Calton  Female   \n",
       "\n",
       "   past_3_years_bike_related_purchases         DOB               job_title  \\\n",
       "0                                   93  1953-10-12     Executive Secretary   \n",
       "1                                   81  1980-12-16  Administrative Officer   \n",
       "2                                   61  1954-01-20      Recruiting Manager   \n",
       "3                                   33  1961-10-03                     NaN   \n",
       "4                                   56  1977-05-13           Senior Editor   \n",
       "\n",
       "  job_industry_category     wealth_segment deceased_indicator  \\\n",
       "0                Health      Mass Customer                  N   \n",
       "1    Financial Services      Mass Customer                  N   \n",
       "2              Property      Mass Customer                  N   \n",
       "3                    IT      Mass Customer                  N   \n",
       "4                   NaN  Affluent Customer                  N   \n",
       "\n",
       "                                             default owns_car  tenure  \n",
       "0                                                 \"'      Yes    11.0  \n",
       "1                       <script>alert('hi')</script>      Yes    16.0  \n",
       "2                                              1-Feb      Yes    15.0  \n",
       "3  () { _; } >_[$($())] { touch /tmp/blns.shellsh...       No     7.0  \n",
       "4                                                NIL      Yes     8.0  "
      ]
     },
     "execution_count": 55,
     "metadata": {},
     "output_type": "execute_result"
    }
   ],
   "source": [
    "#check the column and attribute structure of the data\n",
    "cusdem.head()"
   ]
  },
  {
   "cell_type": "markdown",
   "id": "a19e9700-e2d6-485a-8a7d-73cb428cbf68",
   "metadata": {},
   "source": [
    "##### Inference: The column 'default' can be dropped from the table as it records no significant nor identifiable attribute to the table"
   ]
  },
  {
   "cell_type": "markdown",
   "id": "c8d21806-6314-42ef-83e3-4888a7d4069d",
   "metadata": {},
   "source": [
    "##### Wrangling Customer Address Table"
   ]
  },
  {
   "cell_type": "code",
   "execution_count": 56,
   "id": "6730e19e-abe5-4cfe-9518-16e1070f5119",
   "metadata": {},
   "outputs": [
    {
     "name": "stdout",
     "output_type": "stream",
     "text": [
      "data entry:\n",
      "(4000, 13)\n",
      "Column type:\n",
      "customer_id                              int64\n",
      "first_name                              object\n",
      "last_name                               object\n",
      "gender                                  object\n",
      "past_3_years_bike_related_purchases      int64\n",
      "DOB                                     object\n",
      "job_title                               object\n",
      "job_industry_category                   object\n",
      "wealth_segment                          object\n",
      "deceased_indicator                      object\n",
      "default                                 object\n",
      "owns_car                                object\n",
      "tenure                                 float64\n",
      "dtype: object\n"
     ]
    }
   ],
   "source": [
    "#let us check for errors in the customer address table\n",
    "\n",
    "#identify column headers and their attributes\n",
    "entry=cusdem.shape\n",
    "col=cusdem.dtypes\n",
    "print(f'data entry:\\n{entry}')\n",
    "print(f'Column type:\\n{col}')"
   ]
  },
  {
   "cell_type": "markdown",
   "id": "c2314ba7-5c73-42ec-9998-7faa1c3630da",
   "metadata": {},
   "source": [
    "##### Inference: There are 4000 row entries and 13 columns in the table, implying 4000 customers data has been recorded in 14 different categories on the table"
   ]
  },
  {
   "cell_type": "code",
   "execution_count": 57,
   "id": "18038f4b-6c14-4ba1-91bd-50006738d87c",
   "metadata": {},
   "outputs": [
    {
     "name": "stdout",
     "output_type": "stream",
     "text": [
      "Missing Data:\n",
      "customer_id                              0\n",
      "first_name                               0\n",
      "last_name                              125\n",
      "gender                                   0\n",
      "past_3_years_bike_related_purchases      0\n",
      "DOB                                     87\n",
      "job_title                              506\n",
      "job_industry_category                  656\n",
      "wealth_segment                           0\n",
      "deceased_indicator                       0\n",
      "default                                302\n",
      "owns_car                                 0\n",
      "tenure                                  87\n",
      "dtype: int64\n",
      "Duplicate: 0\n"
     ]
    }
   ],
   "source": [
    "#check for missing entries in rows\n",
    "missing=cusdem.isnull().sum()\n",
    "print(f'Missing Data:\\n{missing}')\n",
    "\n",
    "#check for duplicate entries in row\n",
    "duplicate=cusdem.duplicated().sum()\n",
    "print('Duplicate:',duplicate)"
   ]
  },
  {
   "cell_type": "markdown",
   "id": "e0426a59-1572-41c8-b93a-58e959f5cfaa",
   "metadata": {},
   "source": [
    "#### Inference: \n",
    "Out of the 4000 customer entries:\n",
    "* 125 failed to record their Last Names\n",
    "* 87 entries are missing for Date Of Birth\n",
    "* 506 null entries for Job Title\n",
    "* 656 missing data for Job Industry Category\n",
    "* 302 data missing in the Default column we suggested to drop\n",
    "* 87 data entries are null for Tenure"
   ]
  },
  {
   "cell_type": "code",
   "execution_count": 58,
   "id": "91400a68-9711-40e0-bdf9-02d62ec0301a",
   "metadata": {},
   "outputs": [
    {
     "name": "stdout",
     "output_type": "stream",
     "text": [
      "Unique Industry:['Health' 'Financial Services' 'Property' 'IT' nan 'Retail' 'Argiculture'\n",
      " 'Manufacturing' 'Telecommunications' 'Entertainment']\n",
      "Unique Gender:['F' 'Male' 'Female' 'U' 'Femal' 'M']\n",
      "Unique Wealth Segment:['Mass Customer' 'Affluent Customer' 'High Net Worth']\n",
      "Unique State:['New South Wales' 'QLD' 'VIC' 'NSW' 'Victoria']\n",
      "Unique Country:['Australia']\n"
     ]
    }
   ],
   "source": [
    "#rLets us check for data accuracy and consistency by checking unique characters in the table\n",
    "uniqueind=cusdem['job_industry_category'].unique()\n",
    "uniquegen=cusdem['gender'].unique()\n",
    "uniquewel=cusdem['wealth_segment'].unique()\n",
    "uniquestate=cusadd['state'].unique()\n",
    "uniquecountry=cusadd['country'].unique()\n",
    "\n",
    "print(f'Unique Industry:{uniqueind}\\nUnique Gender:{uniquegen}\\nUnique Wealth Segment:{uniquewel}\\nUnique State:{uniquestate}\\nUnique Country:{uniquecountry}')"
   ]
  },
  {
   "cell_type": "markdown",
   "id": "903aa1eb-bcf6-4117-b739-a5f85df5bbe2",
   "metadata": {},
   "source": [
    "#### Inference:\n",
    "From the result above, we find that:\n",
    "* Job Industry has some null values in the entries\n",
    "* Gender column has 'F' and 'M' values representing female and male respectively, this entries needs to be normalized. It also appears an entry misspeled Female as 'Femal'. We also need to clarify what the 'U' stands for, for fear of misgendering.\n",
    "* State column has the entry 'New South Wales' and 'NSW' we will have to normalize these entries to be one single description"
   ]
  },
  {
   "cell_type": "code",
   "execution_count": 59,
   "id": "67a1b748-eaf3-4d20-a207-71947b50b2e2",
   "metadata": {},
   "outputs": [
    {
     "data": {
      "text/plain": [
       "count    3913.000000\n",
       "mean     1977.030667\n",
       "std        12.796387\n",
       "min      1843.000000\n",
       "25%      1968.000000\n",
       "50%      1977.000000\n",
       "75%      1987.000000\n",
       "max      2002.000000\n",
       "Name: DOB_Year, dtype: float64"
      ]
     },
     "execution_count": 59,
     "metadata": {},
     "output_type": "execute_result"
    }
   ],
   "source": [
    "#Lets investigate the date column\n",
    "#convert column to date type\n",
    "cusdem['DOB']=pd.to_datetime(cusdem['DOB'])\n",
    "\n",
    "#lets create a new column to seperate the year\n",
    "cusdem['DOB_Year']=cusdem['DOB'].dt.year\n",
    "\n",
    "#get statistics for year\n",
    "cusdem['DOB_Year'].describe()"
   ]
  },
  {
   "cell_type": "markdown",
   "id": "48fee6b7-ec25-4d57-bdd5-92905a7ec214",
   "metadata": {},
   "source": [
    "##### Inference: _The statitistics shows that there is an entry of '1843' for the Date of Birth column. This year equals the age '175' and must have been entered as a numerical error_"
   ]
  },
  {
   "cell_type": "code",
   "execution_count": 60,
   "id": "928acf92-8e3a-4ef3-8058-9cdadcc6650e",
   "metadata": {},
   "outputs": [
    {
     "data": {
      "image/png": "[encoded data removed]",
      "text/plain": [
       "<Figure size 640x480 with 1 Axes>"
      ]
     },
     "metadata": {},
     "output_type": "display_data"
    }
   ],
   "source": [
    "# let's investigate the table further with a boxplot of the year column\n",
    "import seaborn as sns #to visualize data\n",
    "import matplotlib.pyplot as plt\n",
    "import matplotlib.style as style\n",
    "style.use('ggplot')\n",
    "\n",
    "\n",
    "data=cusdem['DOB_Year']\n",
    "\n",
    "data.plot(kind='box')\n",
    "plt.title('Checking  Outlier in Date of Birth(Year)')\n",
    "plt.show()"
   ]
  },
  {
   "cell_type": "markdown",
   "id": "3d7eebed-cb7c-47ad-a7e2-ba56215606e7",
   "metadata": {},
   "source": [
    "##### Inference: Further investigations through the box plot have stregthened our claim that this outlier is an error"
   ]
  },
  {
   "cell_type": "code",
   "execution_count": 24,
   "id": "5eae079e-d36d-452e-805a-0564fda5249f",
   "metadata": {},
   "outputs": [
    {
     "name": "stdout",
     "output_type": "stream",
     "text": [
      "data entry:\n",
      "(3999, 6)\n",
      "Column type:\n",
      "customer_id            int64\n",
      "address               object\n",
      "postcode               int64\n",
      "state                 object\n",
      "country               object\n",
      "property_valuation     int64\n",
      "dtype: object\n"
     ]
    }
   ],
   "source": [
    "#let us check for errors in the customer address table\n",
    "\n",
    "#identify column headers and their attributes\n",
    "entry=cusadd.shape\n",
    "col=cusadd.dtypes\n",
    "print(f'data entry:\\n{entry}')\n",
    "print(f'Column type:\\n{col}')"
   ]
  },
  {
   "cell_type": "markdown",
   "id": "16244313-eab8-49d3-a28e-9249fa90cf2c",
   "metadata": {},
   "source": [
    "##### inference: The customer address table has 3999 row entries and 6 columns, as a copliment to the customer demographic table, this implies a missing customer ID"
   ]
  },
  {
   "cell_type": "code",
   "execution_count": 26,
   "id": "af96f434-3580-4e56-a6cc-708536dea20f",
   "metadata": {},
   "outputs": [
    {
     "name": "stdout",
     "output_type": "stream",
     "text": [
      "customer_id           0\n",
      "address               0\n",
      "postcode              0\n",
      "state                 0\n",
      "country               0\n",
      "property_valuation    0\n",
      "dtype: int64\n"
     ]
    }
   ],
   "source": [
    "#check for missing entries in rows\n",
    "missing=cusadd.isnull().sum()\n",
    "print(missing)"
   ]
  },
  {
   "cell_type": "markdown",
   "id": "8ba4e9ad-88ed-4b3b-a65b-3482943b8164",
   "metadata": {},
   "source": [
    "##### Inference: Customers are particular about their address as there are no null entries in the customer address data"
   ]
  },
  {
   "cell_type": "code",
   "execution_count": 28,
   "id": "3ddc6bd9-a015-4ab6-b42b-25734351cffe",
   "metadata": {},
   "outputs": [
    {
     "name": "stdout",
     "output_type": "stream",
     "text": [
      "0\n"
     ]
    }
   ],
   "source": [
    "#check for duplicate entries in row\n",
    "duplicate=cusadd.duplicated().sum()\n",
    "print(duplicate)"
   ]
  },
  {
   "cell_type": "markdown",
   "id": "d83338b6-4500-4c59-9900-9227e796b6d9",
   "metadata": {},
   "source": [
    "##### Inference: Interestingly, there are no duplicate entries as well"
   ]
  },
  {
   "cell_type": "code",
   "execution_count": 30,
   "id": "361f1527-e097-4cbd-ae43-b1f41fd7c82a",
   "metadata": {},
   "outputs": [
    {
     "name": "stdout",
     "output_type": "stream",
     "text": [
      "Unique address:['060 Morning Avenue' '6 Meadow Vale Court' '0 Holy Cross Court' ...\n",
      " '87 Crescent Oaks Alley' '8194 Lien Street' '320 Acker Drive']\n",
      "Unique State:['New South Wales' 'QLD' 'VIC' 'NSW' 'Victoria']\n",
      "Unique Country:['Australia']\n"
     ]
    }
   ],
   "source": [
    "#retreive data accuracy by checking unique Keys and their pairs\n",
    "uniqueadd=cusadd['address'].unique()\n",
    "uniquestate=cusadd['state'].unique()\n",
    "uniquecountry=cusadd['country'].unique()\n",
    "\n",
    "print(f'Unique address:{uniqueadd}\\nUnique State:{uniquestate}\\nUnique Country:{uniquecountry}')"
   ]
  },
  {
   "cell_type": "markdown",
   "id": "03df5fcd-9a0e-4dcb-863e-f8dc1d24500a",
   "metadata": {},
   "source": [
    "##### Inference: We find here that there is also a preference in entering 'New South Wales' and 'NSW', we will have to normalize this entry for exploratory purpose"
   ]
  },
  {
   "cell_type": "markdown",
   "id": "b9a37b2a-7fc6-4c0f-a381-c753f25b7078",
   "metadata": {},
   "source": [
    "_It is important to merge the Customer Demographic table with the Customer address table to maintain a single table of data_\n"
   ]
  },
  {
   "cell_type": "code",
   "execution_count": 62,
   "id": "b20c8eec-1f21-49eb-8580-c1541ac10144",
   "metadata": {},
   "outputs": [
    {
     "data": {
      "text/html": [
       "<div>\n",
       "<style scoped>\n",
       "    .dataframe tbody tr th:only-of-type {\n",
       "        vertical-align: middle;\n",
       "    }\n",
       "\n",
       "    .dataframe tbody tr th {\n",
       "        vertical-align: top;\n",
       "    }\n",
       "\n",
       "    .dataframe thead th {\n",
       "        text-align: right;\n",
       "    }\n",
       "</style>\n",
       "<table border=\"1\" class=\"dataframe\">\n",
       "  <thead>\n",
       "    <tr style=\"text-align: right;\">\n",
       "      <th></th>\n",
       "      <th>customer_id</th>\n",
       "      <th>address</th>\n",
       "      <th>postcode</th>\n",
       "      <th>state</th>\n",
       "      <th>country</th>\n",
       "      <th>property_valuation</th>\n",
       "      <th>first_name</th>\n",
       "      <th>last_name</th>\n",
       "      <th>gender</th>\n",
       "      <th>past_3_years_bike_related_purchases</th>\n",
       "      <th>DOB</th>\n",
       "      <th>job_title</th>\n",
       "      <th>job_industry_category</th>\n",
       "      <th>wealth_segment</th>\n",
       "      <th>deceased_indicator</th>\n",
       "      <th>default</th>\n",
       "      <th>owns_car</th>\n",
       "      <th>tenure</th>\n",
       "      <th>DOB_Year</th>\n",
       "    </tr>\n",
       "  </thead>\n",
       "  <tbody>\n",
       "    <tr>\n",
       "      <th>0</th>\n",
       "      <td>1</td>\n",
       "      <td>060 Morning Avenue</td>\n",
       "      <td>2016</td>\n",
       "      <td>New South Wales</td>\n",
       "      <td>Australia</td>\n",
       "      <td>10</td>\n",
       "      <td>Laraine</td>\n",
       "      <td>Medendorp</td>\n",
       "      <td>F</td>\n",
       "      <td>93.0</td>\n",
       "      <td>1953-10-12</td>\n",
       "      <td>Executive Secretary</td>\n",
       "      <td>Health</td>\n",
       "      <td>Mass Customer</td>\n",
       "      <td>N</td>\n",
       "      <td>\"'</td>\n",
       "      <td>Yes</td>\n",
       "      <td>11.0</td>\n",
       "      <td>1953.0</td>\n",
       "    </tr>\n",
       "    <tr>\n",
       "      <th>1</th>\n",
       "      <td>2</td>\n",
       "      <td>6 Meadow Vale Court</td>\n",
       "      <td>2153</td>\n",
       "      <td>New South Wales</td>\n",
       "      <td>Australia</td>\n",
       "      <td>10</td>\n",
       "      <td>Eli</td>\n",
       "      <td>Bockman</td>\n",
       "      <td>Male</td>\n",
       "      <td>81.0</td>\n",
       "      <td>1980-12-16</td>\n",
       "      <td>Administrative Officer</td>\n",
       "      <td>Financial Services</td>\n",
       "      <td>Mass Customer</td>\n",
       "      <td>N</td>\n",
       "      <td>&lt;script&gt;alert('hi')&lt;/script&gt;</td>\n",
       "      <td>Yes</td>\n",
       "      <td>16.0</td>\n",
       "      <td>1980.0</td>\n",
       "    </tr>\n",
       "    <tr>\n",
       "      <th>2</th>\n",
       "      <td>4</td>\n",
       "      <td>0 Holy Cross Court</td>\n",
       "      <td>4211</td>\n",
       "      <td>QLD</td>\n",
       "      <td>Australia</td>\n",
       "      <td>9</td>\n",
       "      <td>Talbot</td>\n",
       "      <td>NaN</td>\n",
       "      <td>Male</td>\n",
       "      <td>33.0</td>\n",
       "      <td>1961-10-03</td>\n",
       "      <td>NaN</td>\n",
       "      <td>IT</td>\n",
       "      <td>Mass Customer</td>\n",
       "      <td>N</td>\n",
       "      <td>() { _; } &gt;_[$($())] { touch /tmp/blns.shellsh...</td>\n",
       "      <td>No</td>\n",
       "      <td>7.0</td>\n",
       "      <td>1961.0</td>\n",
       "    </tr>\n",
       "    <tr>\n",
       "      <th>3</th>\n",
       "      <td>5</td>\n",
       "      <td>17979 Del Mar Point</td>\n",
       "      <td>2448</td>\n",
       "      <td>New South Wales</td>\n",
       "      <td>Australia</td>\n",
       "      <td>4</td>\n",
       "      <td>Sheila-kathryn</td>\n",
       "      <td>Calton</td>\n",
       "      <td>Female</td>\n",
       "      <td>56.0</td>\n",
       "      <td>1977-05-13</td>\n",
       "      <td>Senior Editor</td>\n",
       "      <td>NaN</td>\n",
       "      <td>Affluent Customer</td>\n",
       "      <td>N</td>\n",
       "      <td>NIL</td>\n",
       "      <td>Yes</td>\n",
       "      <td>8.0</td>\n",
       "      <td>1977.0</td>\n",
       "    </tr>\n",
       "    <tr>\n",
       "      <th>4</th>\n",
       "      <td>6</td>\n",
       "      <td>9 Oakridge Court</td>\n",
       "      <td>3216</td>\n",
       "      <td>VIC</td>\n",
       "      <td>Australia</td>\n",
       "      <td>9</td>\n",
       "      <td>Curr</td>\n",
       "      <td>Duckhouse</td>\n",
       "      <td>Male</td>\n",
       "      <td>35.0</td>\n",
       "      <td>1966-09-16</td>\n",
       "      <td>NaN</td>\n",
       "      <td>Retail</td>\n",
       "      <td>High Net Worth</td>\n",
       "      <td>N</td>\n",
       "      <td>ðµ ð ð ð</td>\n",
       "      <td>Yes</td>\n",
       "      <td>13.0</td>\n",
       "      <td>1966.0</td>\n",
       "    </tr>\n",
       "  </tbody>\n",
       "</table>\n",
       "</div>"
      ],
      "text/plain": [
       "   customer_id              address  postcode            state    country  \\\n",
       "0            1   060 Morning Avenue      2016  New South Wales  Australia   \n",
       "1            2  6 Meadow Vale Court      2153  New South Wales  Australia   \n",
       "2            4   0 Holy Cross Court      4211              QLD  Australia   \n",
       "3            5  17979 Del Mar Point      2448  New South Wales  Australia   \n",
       "4            6     9 Oakridge Court      3216              VIC  Australia   \n",
       "\n",
       "   property_valuation      first_name  last_name  gender  \\\n",
       "0                  10         Laraine  Medendorp       F   \n",
       "1                  10             Eli    Bockman    Male   \n",
       "2                   9          Talbot        NaN    Male   \n",
       "3                   4  Sheila-kathryn     Calton  Female   \n",
       "4                   9            Curr  Duckhouse    Male   \n",
       "\n",
       "   past_3_years_bike_related_purchases        DOB               job_title  \\\n",
       "0                                 93.0 1953-10-12     Executive Secretary   \n",
       "1                                 81.0 1980-12-16  Administrative Officer   \n",
       "2                                 33.0 1961-10-03                     NaN   \n",
       "3                                 56.0 1977-05-13           Senior Editor   \n",
       "4                                 35.0 1966-09-16                     NaN   \n",
       "\n",
       "  job_industry_category     wealth_segment deceased_indicator  \\\n",
       "0                Health      Mass Customer                  N   \n",
       "1    Financial Services      Mass Customer                  N   \n",
       "2                    IT      Mass Customer                  N   \n",
       "3                   NaN  Affluent Customer                  N   \n",
       "4                Retail     High Net Worth                  N   \n",
       "\n",
       "                                             default owns_car  tenure  \\\n",
       "0                                                 \"'      Yes    11.0   \n",
       "1                       <script>alert('hi')</script>      Yes    16.0   \n",
       "2  () { _; } >_[$($())] { touch /tmp/blns.shellsh...       No     7.0   \n",
       "3                                                NIL      Yes     8.0   \n",
       "4                                           ðµ ð ð ð      Yes    13.0   \n",
       "\n",
       "   DOB_Year  \n",
       "0    1953.0  \n",
       "1    1980.0  \n",
       "2    1961.0  \n",
       "3    1977.0  \n",
       "4    1966.0  "
      ]
     },
     "execution_count": 62,
     "metadata": {},
     "output_type": "execute_result"
    }
   ],
   "source": [
    "#we can acheive this by:\n",
    "CustomerData= pd.merge(cusadd,cusdem, on='customer_id',how='left')\n",
    "\n",
    "#print the new twable\n",
    "CustomerData.head()"
   ]
  },
  {
   "cell_type": "markdown",
   "id": "0901cb08-03d4-4a2d-b111-695cbb3f1410",
   "metadata": {},
   "source": [
    "##### Inference: Now the table is in good shape for more wrangling and exploration, It is now also consistent with the New customer's table"
   ]
  },
  {
   "cell_type": "markdown",
   "id": "42d2877d-7435-4e1d-8342-3d193649bdd3",
   "metadata": {},
   "source": [
    "##### Wrangling New customer list\n"
   ]
  },
  {
   "cell_type": "code",
   "execution_count": 32,
   "id": "e8cac619-4ab8-4ed8-a1c6-e1aada91ab42",
   "metadata": {},
   "outputs": [
    {
     "data": {
      "text/html": [
       "<div>\n",
       "<style scoped>\n",
       "    .dataframe tbody tr th:only-of-type {\n",
       "        vertical-align: middle;\n",
       "    }\n",
       "\n",
       "    .dataframe tbody tr th {\n",
       "        vertical-align: top;\n",
       "    }\n",
       "\n",
       "    .dataframe thead th {\n",
       "        text-align: right;\n",
       "    }\n",
       "</style>\n",
       "<table border=\"1\" class=\"dataframe\">\n",
       "  <thead>\n",
       "    <tr style=\"text-align: right;\">\n",
       "      <th></th>\n",
       "      <th>first_name</th>\n",
       "      <th>last_name</th>\n",
       "      <th>gender</th>\n",
       "      <th>past_3_years_bike_related_purchases</th>\n",
       "      <th>DOB</th>\n",
       "      <th>job_title</th>\n",
       "      <th>job_industry_category</th>\n",
       "      <th>wealth_segment</th>\n",
       "      <th>deceased_indicator</th>\n",
       "      <th>owns_car</th>\n",
       "      <th>...</th>\n",
       "      <th>state</th>\n",
       "      <th>country</th>\n",
       "      <th>property_valuation</th>\n",
       "      <th>Unnamed: 16</th>\n",
       "      <th>Unnamed: 17</th>\n",
       "      <th>Unnamed: 18</th>\n",
       "      <th>Unnamed: 19</th>\n",
       "      <th>Unnamed: 20</th>\n",
       "      <th>Rank</th>\n",
       "      <th>Value</th>\n",
       "    </tr>\n",
       "  </thead>\n",
       "  <tbody>\n",
       "    <tr>\n",
       "      <th>0</th>\n",
       "      <td>Chickie</td>\n",
       "      <td>Brister</td>\n",
       "      <td>Male</td>\n",
       "      <td>86</td>\n",
       "      <td>1957-07-12</td>\n",
       "      <td>General Manager</td>\n",
       "      <td>Manufacturing</td>\n",
       "      <td>Mass Customer</td>\n",
       "      <td>N</td>\n",
       "      <td>Yes</td>\n",
       "      <td>...</td>\n",
       "      <td>QLD</td>\n",
       "      <td>Australia</td>\n",
       "      <td>6.0</td>\n",
       "      <td>1.09</td>\n",
       "      <td>1.3625</td>\n",
       "      <td>1.703125</td>\n",
       "      <td>1.447656</td>\n",
       "      <td>1</td>\n",
       "      <td>1</td>\n",
       "      <td>1.718750</td>\n",
       "    </tr>\n",
       "    <tr>\n",
       "      <th>1</th>\n",
       "      <td>Morly</td>\n",
       "      <td>Genery</td>\n",
       "      <td>Male</td>\n",
       "      <td>69</td>\n",
       "      <td>1970-03-22</td>\n",
       "      <td>Structural Engineer</td>\n",
       "      <td>Property</td>\n",
       "      <td>Mass Customer</td>\n",
       "      <td>N</td>\n",
       "      <td>No</td>\n",
       "      <td>...</td>\n",
       "      <td>NSW</td>\n",
       "      <td>Australia</td>\n",
       "      <td>11.0</td>\n",
       "      <td>0.69</td>\n",
       "      <td>0.6900</td>\n",
       "      <td>0.862500</td>\n",
       "      <td>0.733125</td>\n",
       "      <td>1</td>\n",
       "      <td>1</td>\n",
       "      <td>1.718750</td>\n",
       "    </tr>\n",
       "    <tr>\n",
       "      <th>2</th>\n",
       "      <td>Ardelis</td>\n",
       "      <td>Forrester</td>\n",
       "      <td>Female</td>\n",
       "      <td>10</td>\n",
       "      <td>1974-08-28</td>\n",
       "      <td>Senior Cost Accountant</td>\n",
       "      <td>Financial Services</td>\n",
       "      <td>Affluent Customer</td>\n",
       "      <td>N</td>\n",
       "      <td>No</td>\n",
       "      <td>...</td>\n",
       "      <td>VIC</td>\n",
       "      <td>Australia</td>\n",
       "      <td>5.0</td>\n",
       "      <td>0.46</td>\n",
       "      <td>0.4600</td>\n",
       "      <td>0.460000</td>\n",
       "      <td>0.460000</td>\n",
       "      <td>1</td>\n",
       "      <td>1</td>\n",
       "      <td>1.718750</td>\n",
       "    </tr>\n",
       "    <tr>\n",
       "      <th>3</th>\n",
       "      <td>Lucine</td>\n",
       "      <td>Stutt</td>\n",
       "      <td>Female</td>\n",
       "      <td>64</td>\n",
       "      <td>1979-01-28</td>\n",
       "      <td>Account Representative III</td>\n",
       "      <td>Manufacturing</td>\n",
       "      <td>Affluent Customer</td>\n",
       "      <td>N</td>\n",
       "      <td>Yes</td>\n",
       "      <td>...</td>\n",
       "      <td>QLD</td>\n",
       "      <td>Australia</td>\n",
       "      <td>1.0</td>\n",
       "      <td>0.91</td>\n",
       "      <td>1.1375</td>\n",
       "      <td>1.137500</td>\n",
       "      <td>1.137500</td>\n",
       "      <td>4</td>\n",
       "      <td>4</td>\n",
       "      <td>1.703125</td>\n",
       "    </tr>\n",
       "    <tr>\n",
       "      <th>4</th>\n",
       "      <td>Melinda</td>\n",
       "      <td>Hadlee</td>\n",
       "      <td>Female</td>\n",
       "      <td>34</td>\n",
       "      <td>1965-09-21</td>\n",
       "      <td>Financial Analyst</td>\n",
       "      <td>Financial Services</td>\n",
       "      <td>Affluent Customer</td>\n",
       "      <td>N</td>\n",
       "      <td>No</td>\n",
       "      <td>...</td>\n",
       "      <td>NSW</td>\n",
       "      <td>Australia</td>\n",
       "      <td>9.0</td>\n",
       "      <td>0.79</td>\n",
       "      <td>0.7900</td>\n",
       "      <td>0.987500</td>\n",
       "      <td>0.987500</td>\n",
       "      <td>4</td>\n",
       "      <td>4</td>\n",
       "      <td>1.703125</td>\n",
       "    </tr>\n",
       "  </tbody>\n",
       "</table>\n",
       "<p>5 rows × 23 columns</p>\n",
       "</div>"
      ],
      "text/plain": [
       "  first_name  last_name  gender  past_3_years_bike_related_purchases  \\\n",
       "0    Chickie    Brister    Male                                   86   \n",
       "1      Morly     Genery    Male                                   69   \n",
       "2    Ardelis  Forrester  Female                                   10   \n",
       "3     Lucine      Stutt  Female                                   64   \n",
       "4    Melinda     Hadlee  Female                                   34   \n",
       "\n",
       "          DOB                   job_title job_industry_category  \\\n",
       "0  1957-07-12             General Manager         Manufacturing   \n",
       "1  1970-03-22         Structural Engineer              Property   \n",
       "2  1974-08-28      Senior Cost Accountant    Financial Services   \n",
       "3  1979-01-28  Account Representative III         Manufacturing   \n",
       "4  1965-09-21           Financial Analyst    Financial Services   \n",
       "\n",
       "      wealth_segment deceased_indicator owns_car  ...  state    country  \\\n",
       "0      Mass Customer                  N      Yes  ...    QLD  Australia   \n",
       "1      Mass Customer                  N       No  ...    NSW  Australia   \n",
       "2  Affluent Customer                  N       No  ...    VIC  Australia   \n",
       "3  Affluent Customer                  N      Yes  ...    QLD  Australia   \n",
       "4  Affluent Customer                  N       No  ...    NSW  Australia   \n",
       "\n",
       "   property_valuation Unnamed: 16 Unnamed: 17  Unnamed: 18  Unnamed: 19  \\\n",
       "0                 6.0        1.09      1.3625     1.703125     1.447656   \n",
       "1                11.0        0.69      0.6900     0.862500     0.733125   \n",
       "2                 5.0        0.46      0.4600     0.460000     0.460000   \n",
       "3                 1.0        0.91      1.1375     1.137500     1.137500   \n",
       "4                 9.0        0.79      0.7900     0.987500     0.987500   \n",
       "\n",
       "   Unnamed: 20  Rank     Value  \n",
       "0            1     1  1.718750  \n",
       "1            1     1  1.718750  \n",
       "2            1     1  1.718750  \n",
       "3            4     4  1.703125  \n",
       "4            4     4  1.703125  \n",
       "\n",
       "[5 rows x 23 columns]"
      ]
     },
     "execution_count": 32,
     "metadata": {},
     "output_type": "execute_result"
    }
   ],
   "source": [
    "#check the column and attribute structure of the data\n",
    "newcus.head()"
   ]
  },
  {
   "cell_type": "markdown",
   "id": "6171384b-d9b0-439c-8bb8-72a46acaaf4b",
   "metadata": {},
   "source": [
    "##### Inference: We require clarity or definition of the unnamed columns. If this can not be possible, it is best to drop the column "
   ]
  },
  {
   "cell_type": "code",
   "execution_count": 34,
   "id": "749c8e23-ef00-4dfa-a751-420b69679111",
   "metadata": {},
   "outputs": [
    {
     "name": "stdout",
     "output_type": "stream",
     "text": [
      "data entry:\n",
      "(1000, 23)\n",
      "Column type:\n",
      "first_name                              object\n",
      "last_name                               object\n",
      "gender                                  object\n",
      "past_3_years_bike_related_purchases      int64\n",
      "DOB                                     object\n",
      "job_title                               object\n",
      "job_industry_category                   object\n",
      "wealth_segment                          object\n",
      "deceased_indicator                      object\n",
      "owns_car                                object\n",
      "tenure                                   int64\n",
      "address                                 object\n",
      "postcode                                 int64\n",
      "state                                   object\n",
      "country                                 object\n",
      "property_valuation                     float64\n",
      "Unnamed: 16                            float64\n",
      "Unnamed: 17                            float64\n",
      "Unnamed: 18                            float64\n",
      "Unnamed: 19                            float64\n",
      "Unnamed: 20                              int64\n",
      "Rank                                     int64\n",
      "Value                                  float64\n",
      "dtype: object\n"
     ]
    }
   ],
   "source": [
    "#let us check for errors in the New customer list table\n",
    "\n",
    "#identify column headers and their attributes\n",
    "entry=newcus.shape\n",
    "col=newcus.dtypes\n",
    "print(f'data entry:\\n{entry}')\n",
    "print(f'Column type:\\n{col}')"
   ]
  },
  {
   "cell_type": "markdown",
   "id": "30a35164-b71b-43de-9996-0fae9f38bc3d",
   "metadata": {},
   "source": [
    "##### Inference: The table contains 1000 rows and 13 columns, implying that 1000 new customers have been converted"
   ]
  },
  {
   "cell_type": "code",
   "execution_count": 35,
   "id": "01580c7c-d25a-461d-a05d-39b7ebdb7215",
   "metadata": {},
   "outputs": [
    {
     "name": "stdout",
     "output_type": "stream",
     "text": [
      "first_name                               0\n",
      "last_name                               29\n",
      "gender                                   0\n",
      "past_3_years_bike_related_purchases      0\n",
      "DOB                                     17\n",
      "job_title                              106\n",
      "job_industry_category                  165\n",
      "wealth_segment                           0\n",
      "deceased_indicator                       0\n",
      "owns_car                                 0\n",
      "tenure                                   0\n",
      "address                                  0\n",
      "postcode                                 0\n",
      "state                                    0\n",
      "country                                  0\n",
      "property_valuation                       0\n",
      "Unnamed: 16                              0\n",
      "Unnamed: 17                              0\n",
      "Unnamed: 18                              0\n",
      "Unnamed: 19                              0\n",
      "Unnamed: 20                              0\n",
      "Rank                                     0\n",
      "Value                                    0\n",
      "dtype: int64\n"
     ]
    }
   ],
   "source": [
    "#check for missing entries in rows\n",
    "missing=newcus.isnull().sum()\n",
    "print(missing)"
   ]
  },
  {
   "cell_type": "code",
   "execution_count": null,
   "id": "ff3f7ee6-7ab9-4175-82a6-46aae975ad9f",
   "metadata": {},
   "outputs": [],
   "source": [
    "##### Inference: \n",
    "The result shows that:\n",
    "* 29 customers did not include their last names\n",
    "* Entries are missing 17 times on the Date of Birth columnn\n",
    "* 106 customers left out their Job title\n",
    "* There are no entries for 165 job industry Category column"
   ]
  },
  {
   "cell_type": "code",
   "execution_count": 36,
   "id": "584965a8-3b54-4502-9af5-cef265dd7cbc",
   "metadata": {},
   "outputs": [
    {
     "name": "stdout",
     "output_type": "stream",
     "text": [
      "0\n"
     ]
    }
   ],
   "source": [
    "#check for duplicate entries in row\n",
    "duplicate=newcus.duplicated().sum()\n",
    "print(duplicate)"
   ]
  },
  {
   "cell_type": "markdown",
   "id": "9bf4ad87-f7d1-4e16-8724-f53ae57aeb21",
   "metadata": {},
   "source": [
    "##### The new customers are unique, thus no duplicate was found"
   ]
  },
  {
   "cell_type": "code",
   "execution_count": 37,
   "id": "cd596b09-85c8-49e9-ad27-35f249882279",
   "metadata": {},
   "outputs": [
    {
     "name": "stdout",
     "output_type": "stream",
     "text": [
      "Unique State:['QLD' 'NSW' 'VIC']\n",
      "Unique Country:['Australia']\n",
      "Unique Gender: ['Male' 'Female' 'U']\n",
      " Unique Industry:['Manufacturing' 'Property' 'Financial Services' 'Entertainment' 'Retail'\n",
      " 'IT' 'Telecommunications' 'Health' nan 'Argiculture']\n"
     ]
    }
   ],
   "source": [
    "#retreive data accuracy by checking unique Keys and their pairs\n",
    "uniquestate=newcus['state'].unique()\n",
    "uniquecountry=newcus['country'].unique()\n",
    "uniquegen=newcus['gender'].unique()\n",
    "uniqueind=newcus['job_industry_category'].unique()\n",
    "\n",
    "print(f'Unique State:{uniquestate}\\nUnique Country:{uniquecountry}\\nUnique Gender: {uniquegen}\\n Unique Industry:{uniqueind}')"
   ]
  },
  {
   "cell_type": "markdown",
   "id": "257369c6-c703-411b-ba37-0243b6793bd4",
   "metadata": {},
   "source": [
    "##### Inference:\n",
    "* New customer table maintained 'NSW' as the state entry\n",
    "* 'U' gender appeared again\n",
    "* There are null values for Industry column"
   ]
  },
  {
   "cell_type": "code",
   "execution_count": 39,
   "id": "e79eb514-0dde-41b9-ac96-9093af54699f",
   "metadata": {},
   "outputs": [
    {
     "data": {
      "text/html": [
       "<div>\n",
       "<style scoped>\n",
       "    .dataframe tbody tr th:only-of-type {\n",
       "        vertical-align: middle;\n",
       "    }\n",
       "\n",
       "    .dataframe tbody tr th {\n",
       "        vertical-align: top;\n",
       "    }\n",
       "\n",
       "    .dataframe thead th {\n",
       "        text-align: right;\n",
       "    }\n",
       "</style>\n",
       "<table border=\"1\" class=\"dataframe\">\n",
       "  <thead>\n",
       "    <tr style=\"text-align: right;\">\n",
       "      <th></th>\n",
       "      <th>past_3_years_bike_related_purchases</th>\n",
       "      <th>tenure</th>\n",
       "      <th>postcode</th>\n",
       "      <th>property_valuation</th>\n",
       "      <th>Unnamed: 16</th>\n",
       "      <th>Unnamed: 17</th>\n",
       "      <th>Unnamed: 18</th>\n",
       "      <th>Unnamed: 19</th>\n",
       "      <th>Unnamed: 20</th>\n",
       "      <th>Rank</th>\n",
       "      <th>Value</th>\n",
       "      <th>DOB_Year</th>\n",
       "    </tr>\n",
       "  </thead>\n",
       "  <tbody>\n",
       "    <tr>\n",
       "      <th>count</th>\n",
       "      <td>1000.000000</td>\n",
       "      <td>1000.000000</td>\n",
       "      <td>1000.000000</td>\n",
       "      <td>1000.000000</td>\n",
       "      <td>1000.000000</td>\n",
       "      <td>1000.000000</td>\n",
       "      <td>1000.00000</td>\n",
       "      <td>1000.000000</td>\n",
       "      <td>1000.000000</td>\n",
       "      <td>1000.000000</td>\n",
       "      <td>1000.000000</td>\n",
       "      <td>983.000000</td>\n",
       "    </tr>\n",
       "    <tr>\n",
       "      <th>mean</th>\n",
       "      <td>49.836000</td>\n",
       "      <td>11.388000</td>\n",
       "      <td>3019.227000</td>\n",
       "      <td>7.397000</td>\n",
       "      <td>0.754450</td>\n",
       "      <td>0.845992</td>\n",
       "      <td>0.95051</td>\n",
       "      <td>0.877598</td>\n",
       "      <td>498.819000</td>\n",
       "      <td>498.819000</td>\n",
       "      <td>0.881714</td>\n",
       "      <td>1970.793489</td>\n",
       "    </tr>\n",
       "    <tr>\n",
       "      <th>std</th>\n",
       "      <td>27.796686</td>\n",
       "      <td>5.037145</td>\n",
       "      <td>848.895767</td>\n",
       "      <td>2.758804</td>\n",
       "      <td>0.201198</td>\n",
       "      <td>0.241846</td>\n",
       "      <td>0.28725</td>\n",
       "      <td>0.273437</td>\n",
       "      <td>288.810997</td>\n",
       "      <td>288.810997</td>\n",
       "      <td>0.293525</td>\n",
       "      <td>17.074268</td>\n",
       "    </tr>\n",
       "    <tr>\n",
       "      <th>min</th>\n",
       "      <td>0.000000</td>\n",
       "      <td>0.000000</td>\n",
       "      <td>2000.000000</td>\n",
       "      <td>1.000000</td>\n",
       "      <td>0.400000</td>\n",
       "      <td>0.400000</td>\n",
       "      <td>0.40000</td>\n",
       "      <td>0.357000</td>\n",
       "      <td>1.000000</td>\n",
       "      <td>1.000000</td>\n",
       "      <td>0.340000</td>\n",
       "      <td>1938.000000</td>\n",
       "    </tr>\n",
       "    <tr>\n",
       "      <th>25%</th>\n",
       "      <td>26.750000</td>\n",
       "      <td>7.000000</td>\n",
       "      <td>2209.000000</td>\n",
       "      <td>6.000000</td>\n",
       "      <td>0.580000</td>\n",
       "      <td>0.650000</td>\n",
       "      <td>0.72500</td>\n",
       "      <td>0.663000</td>\n",
       "      <td>250.000000</td>\n",
       "      <td>250.000000</td>\n",
       "      <td>0.649531</td>\n",
       "      <td>1957.000000</td>\n",
       "    </tr>\n",
       "    <tr>\n",
       "      <th>50%</th>\n",
       "      <td>51.000000</td>\n",
       "      <td>11.000000</td>\n",
       "      <td>2800.000000</td>\n",
       "      <td>8.000000</td>\n",
       "      <td>0.750000</td>\n",
       "      <td>0.830000</td>\n",
       "      <td>0.92500</td>\n",
       "      <td>0.850000</td>\n",
       "      <td>500.000000</td>\n",
       "      <td>500.000000</td>\n",
       "      <td>0.860000</td>\n",
       "      <td>1972.000000</td>\n",
       "    </tr>\n",
       "    <tr>\n",
       "      <th>75%</th>\n",
       "      <td>72.000000</td>\n",
       "      <td>15.000000</td>\n",
       "      <td>3845.500000</td>\n",
       "      <td>9.000000</td>\n",
       "      <td>0.930000</td>\n",
       "      <td>1.020000</td>\n",
       "      <td>1.15000</td>\n",
       "      <td>1.062500</td>\n",
       "      <td>750.250000</td>\n",
       "      <td>750.250000</td>\n",
       "      <td>1.075000</td>\n",
       "      <td>1983.000000</td>\n",
       "    </tr>\n",
       "    <tr>\n",
       "      <th>max</th>\n",
       "      <td>99.000000</td>\n",
       "      <td>22.000000</td>\n",
       "      <td>4879.000000</td>\n",
       "      <td>12.000000</td>\n",
       "      <td>1.100000</td>\n",
       "      <td>1.375000</td>\n",
       "      <td>1.71875</td>\n",
       "      <td>1.703125</td>\n",
       "      <td>1000.000000</td>\n",
       "      <td>1000.000000</td>\n",
       "      <td>1.718750</td>\n",
       "      <td>2002.000000</td>\n",
       "    </tr>\n",
       "  </tbody>\n",
       "</table>\n",
       "</div>"
      ],
      "text/plain": [
       "       past_3_years_bike_related_purchases       tenure     postcode  \\\n",
       "count                          1000.000000  1000.000000  1000.000000   \n",
       "mean                             49.836000    11.388000  3019.227000   \n",
       "std                              27.796686     5.037145   848.895767   \n",
       "min                               0.000000     0.000000  2000.000000   \n",
       "25%                              26.750000     7.000000  2209.000000   \n",
       "50%                              51.000000    11.000000  2800.000000   \n",
       "75%                              72.000000    15.000000  3845.500000   \n",
       "max                              99.000000    22.000000  4879.000000   \n",
       "\n",
       "       property_valuation  Unnamed: 16  Unnamed: 17  Unnamed: 18  Unnamed: 19  \\\n",
       "count         1000.000000  1000.000000  1000.000000   1000.00000  1000.000000   \n",
       "mean             7.397000     0.754450     0.845992      0.95051     0.877598   \n",
       "std              2.758804     0.201198     0.241846      0.28725     0.273437   \n",
       "min              1.000000     0.400000     0.400000      0.40000     0.357000   \n",
       "25%              6.000000     0.580000     0.650000      0.72500     0.663000   \n",
       "50%              8.000000     0.750000     0.830000      0.92500     0.850000   \n",
       "75%              9.000000     0.930000     1.020000      1.15000     1.062500   \n",
       "max             12.000000     1.100000     1.375000      1.71875     1.703125   \n",
       "\n",
       "       Unnamed: 20         Rank        Value     DOB_Year  \n",
       "count  1000.000000  1000.000000  1000.000000   983.000000  \n",
       "mean    498.819000   498.819000     0.881714  1970.793489  \n",
       "std     288.810997   288.810997     0.293525    17.074268  \n",
       "min       1.000000     1.000000     0.340000  1938.000000  \n",
       "25%     250.000000   250.000000     0.649531  1957.000000  \n",
       "50%     500.000000   500.000000     0.860000  1972.000000  \n",
       "75%     750.250000   750.250000     1.075000  1983.000000  \n",
       "max    1000.000000  1000.000000     1.718750  2002.000000  "
      ]
     },
     "execution_count": 39,
     "metadata": {},
     "output_type": "execute_result"
    }
   ],
   "source": [
    "#let us investigate the numeric entries\n",
    "newcus['DOB']=pd.to_datetime(newcus['DOB']) #add a year column to include in the numeric observation\n",
    "newcus['DOB_Year']=newcus['DOB'].dt.year\n",
    "newcus.describe()"
   ]
  },
  {
   "cell_type": "markdown",
   "id": "6300b7ed-5d40-450f-9ffa-f34bdde1bbd3",
   "metadata": {},
   "source": [
    "##### Inference: The new Customers Table shows that there is a consistent age range from 1938 till 2002"
   ]
  },
  {
   "cell_type": "markdown",
   "id": "0de37ede-0e29-486a-b44a-a9966f5d43d2",
   "metadata": {},
   "source": [
    "#### Conclusion\n",
    "Through the data wrangling process of the Sprocket center historic data:\n",
    "* We found missing values that needs to be worked on\n",
    "* Unique values of entries that needs to be further clarified\n",
    "* We found anomalies that can be described as an error\n",
    "* The data cleaning will be commenced before moving to the next phase of exploring the data."
   ]
  },
  {
   "cell_type": "markdown",
   "id": "a6d8ee29-c9e5-4022-a87c-0fc52025de93",
   "metadata": {},
   "source": [
    "### Author\n",
    "[Micheal Stephen](https://www.linkedin.com/in/stephen-micheal-19638b254/)\n",
    "\n",
    "08/09/2023"
   ]
  },
  {
   "cell_type": "code",
   "execution_count": null,
   "id": "7319c505-46ff-41b6-80d8-18a4e73dbff3",
   "metadata": {},
   "outputs": [],
   "source": []
  }
 ],
 "metadata": {
  "kernelspec": {
   "display_name": "Python 3 (ipykernel)",
   "language": "python",
   "name": "python3"
  },
  "language_info": {
   "codemirror_mode": {
    "name": "ipython",
    "version": 3
   },
   "file_extension": ".py",
   "mimetype": "text/x-python",
   "name": "python",
   "nbconvert_exporter": "python",
   "pygments_lexer": "ipython3",
   "version": "3.9.13"
  }
 },
 "nbformat": 4,
 "nbformat_minor": 5
}
